{
 "cells": [
  {
   "cell_type": "code",
   "execution_count": 1,
   "metadata": {},
   "outputs": [],
   "source": [
    "data = open(\"small.txt\", 'r')"
   ]
  },
  {
   "cell_type": "code",
   "execution_count": 5,
   "metadata": {},
   "outputs": [
    {
     "data": {
      "text/plain": [
       "'   2.0000000e+00   8.2084817e-01   2.7969154e-01  -9.3380864e-01   5.3144612e-01  -2.8994726e-01   8.1788159e-02   7.1894153e-01  -2.5073776e-01  -2.2245984e+00   1.3935927e+00\\n'"
      ]
     },
     "execution_count": 5,
     "metadata": {},
     "output_type": "execute_result"
    }
   ],
   "source": [
    "\n",
    "data.readline()"
   ]
  },
  {
   "cell_type": "code",
   "execution_count": 8,
   "metadata": {},
   "outputs": [],
   "source": [
    "import pandas as pd"
   ]
  },
  {
   "cell_type": "code",
   "execution_count": 13,
   "metadata": {},
   "outputs": [],
   "source": [
    "\n",
    "df = pd.read_fwf(\"small.txt\",header=None)"
   ]
  },
  {
   "cell_type": "code",
   "execution_count": 14,
   "metadata": {},
   "outputs": [
    {
     "data": {
      "text/html": [
       "<div>\n",
       "<style scoped>\n",
       "    .dataframe tbody tr th:only-of-type {\n",
       "        vertical-align: middle;\n",
       "    }\n",
       "\n",
       "    .dataframe tbody tr th {\n",
       "        vertical-align: top;\n",
       "    }\n",
       "\n",
       "    .dataframe thead th {\n",
       "        text-align: right;\n",
       "    }\n",
       "</style>\n",
       "<table border=\"1\" class=\"dataframe\">\n",
       "  <thead>\n",
       "    <tr style=\"text-align: right;\">\n",
       "      <th></th>\n",
       "      <th>0</th>\n",
       "      <th>1</th>\n",
       "      <th>2</th>\n",
       "      <th>3</th>\n",
       "      <th>4</th>\n",
       "      <th>5</th>\n",
       "      <th>6</th>\n",
       "      <th>7</th>\n",
       "      <th>8</th>\n",
       "      <th>9</th>\n",
       "      <th>10</th>\n",
       "    </tr>\n",
       "  </thead>\n",
       "  <tbody>\n",
       "    <tr>\n",
       "      <th>0</th>\n",
       "      <td>2.0</td>\n",
       "      <td>0.820848</td>\n",
       "      <td>0.279692</td>\n",
       "      <td>-0.933809</td>\n",
       "      <td>0.531446</td>\n",
       "      <td>-0.289947</td>\n",
       "      <td>0.081788</td>\n",
       "      <td>0.718942</td>\n",
       "      <td>-0.250738</td>\n",
       "      <td>-2.224598</td>\n",
       "      <td>1.393593</td>\n",
       "    </tr>\n",
       "    <tr>\n",
       "      <th>1</th>\n",
       "      <td>2.0</td>\n",
       "      <td>-0.237337</td>\n",
       "      <td>0.123457</td>\n",
       "      <td>-0.147219</td>\n",
       "      <td>-0.169008</td>\n",
       "      <td>-1.906988</td>\n",
       "      <td>0.412150</td>\n",
       "      <td>-0.476520</td>\n",
       "      <td>0.049739</td>\n",
       "      <td>-0.578898</td>\n",
       "      <td>1.474495</td>\n",
       "    </tr>\n",
       "    <tr>\n",
       "      <th>2</th>\n",
       "      <td>2.0</td>\n",
       "      <td>-1.004144</td>\n",
       "      <td>-0.363469</td>\n",
       "      <td>-2.368783</td>\n",
       "      <td>0.188795</td>\n",
       "      <td>0.649362</td>\n",
       "      <td>-0.663043</td>\n",
       "      <td>-1.565937</td>\n",
       "      <td>1.278773</td>\n",
       "      <td>-1.497079</td>\n",
       "      <td>1.279087</td>\n",
       "    </tr>\n",
       "    <tr>\n",
       "      <th>3</th>\n",
       "      <td>2.0</td>\n",
       "      <td>-0.303728</td>\n",
       "      <td>-0.025726</td>\n",
       "      <td>-1.275006</td>\n",
       "      <td>-0.609765</td>\n",
       "      <td>0.306372</td>\n",
       "      <td>0.196949</td>\n",
       "      <td>0.181794</td>\n",
       "      <td>-1.684047</td>\n",
       "      <td>2.055845</td>\n",
       "      <td>0.769509</td>\n",
       "    </tr>\n",
       "    <tr>\n",
       "      <th>4</th>\n",
       "      <td>2.0</td>\n",
       "      <td>-0.750953</td>\n",
       "      <td>-1.433361</td>\n",
       "      <td>1.147996</td>\n",
       "      <td>1.286011</td>\n",
       "      <td>1.305121</td>\n",
       "      <td>0.664181</td>\n",
       "      <td>-0.815684</td>\n",
       "      <td>0.804744</td>\n",
       "      <td>-1.859179</td>\n",
       "      <td>-0.148197</td>\n",
       "    </tr>\n",
       "    <tr>\n",
       "      <th>...</th>\n",
       "      <td>...</td>\n",
       "      <td>...</td>\n",
       "      <td>...</td>\n",
       "      <td>...</td>\n",
       "      <td>...</td>\n",
       "      <td>...</td>\n",
       "      <td>...</td>\n",
       "      <td>...</td>\n",
       "      <td>...</td>\n",
       "      <td>...</td>\n",
       "      <td>...</td>\n",
       "    </tr>\n",
       "    <tr>\n",
       "      <th>495</th>\n",
       "      <td>1.0</td>\n",
       "      <td>-0.848163</td>\n",
       "      <td>-0.807881</td>\n",
       "      <td>-0.123273</td>\n",
       "      <td>-0.744263</td>\n",
       "      <td>0.467340</td>\n",
       "      <td>-1.309142</td>\n",
       "      <td>1.160015</td>\n",
       "      <td>0.187763</td>\n",
       "      <td>0.370519</td>\n",
       "      <td>-0.724006</td>\n",
       "    </tr>\n",
       "    <tr>\n",
       "      <th>496</th>\n",
       "      <td>2.0</td>\n",
       "      <td>0.055388</td>\n",
       "      <td>0.021084</td>\n",
       "      <td>0.559810</td>\n",
       "      <td>-0.503055</td>\n",
       "      <td>-0.968667</td>\n",
       "      <td>1.684491</td>\n",
       "      <td>-0.466378</td>\n",
       "      <td>1.370321</td>\n",
       "      <td>-1.093290</td>\n",
       "      <td>0.651534</td>\n",
       "    </tr>\n",
       "    <tr>\n",
       "      <th>497</th>\n",
       "      <td>2.0</td>\n",
       "      <td>-0.753129</td>\n",
       "      <td>-1.264581</td>\n",
       "      <td>-1.127424</td>\n",
       "      <td>-0.554393</td>\n",
       "      <td>-0.609218</td>\n",
       "      <td>-0.047186</td>\n",
       "      <td>0.094675</td>\n",
       "      <td>1.479021</td>\n",
       "      <td>-0.627702</td>\n",
       "      <td>1.044869</td>\n",
       "    </tr>\n",
       "    <tr>\n",
       "      <th>498</th>\n",
       "      <td>2.0</td>\n",
       "      <td>-0.231799</td>\n",
       "      <td>-0.276941</td>\n",
       "      <td>-2.064353</td>\n",
       "      <td>-2.093766</td>\n",
       "      <td>-0.616740</td>\n",
       "      <td>-0.390248</td>\n",
       "      <td>0.363341</td>\n",
       "      <td>0.715720</td>\n",
       "      <td>-2.027242</td>\n",
       "      <td>-1.694513</td>\n",
       "    </tr>\n",
       "    <tr>\n",
       "      <th>499</th>\n",
       "      <td>2.0</td>\n",
       "      <td>-0.011838</td>\n",
       "      <td>-0.465866</td>\n",
       "      <td>0.319968</td>\n",
       "      <td>-1.095462</td>\n",
       "      <td>-1.666040</td>\n",
       "      <td>-0.517896</td>\n",
       "      <td>1.286594</td>\n",
       "      <td>0.400324</td>\n",
       "      <td>-0.136945</td>\n",
       "      <td>-1.003354</td>\n",
       "    </tr>\n",
       "  </tbody>\n",
       "</table>\n",
       "<p>500 rows × 11 columns</p>\n",
       "</div>"
      ],
      "text/plain": [
       "      0         1         2         3         4         5         6   \\\n",
       "0    2.0  0.820848  0.279692 -0.933809  0.531446 -0.289947  0.081788   \n",
       "1    2.0 -0.237337  0.123457 -0.147219 -0.169008 -1.906988  0.412150   \n",
       "2    2.0 -1.004144 -0.363469 -2.368783  0.188795  0.649362 -0.663043   \n",
       "3    2.0 -0.303728 -0.025726 -1.275006 -0.609765  0.306372  0.196949   \n",
       "4    2.0 -0.750953 -1.433361  1.147996  1.286011  1.305121  0.664181   \n",
       "..   ...       ...       ...       ...       ...       ...       ...   \n",
       "495  1.0 -0.848163 -0.807881 -0.123273 -0.744263  0.467340 -1.309142   \n",
       "496  2.0  0.055388  0.021084  0.559810 -0.503055 -0.968667  1.684491   \n",
       "497  2.0 -0.753129 -1.264581 -1.127424 -0.554393 -0.609218 -0.047186   \n",
       "498  2.0 -0.231799 -0.276941 -2.064353 -2.093766 -0.616740 -0.390248   \n",
       "499  2.0 -0.011838 -0.465866  0.319968 -1.095462 -1.666040 -0.517896   \n",
       "\n",
       "           7         8         9         10  \n",
       "0    0.718942 -0.250738 -2.224598  1.393593  \n",
       "1   -0.476520  0.049739 -0.578898  1.474495  \n",
       "2   -1.565937  1.278773 -1.497079  1.279087  \n",
       "3    0.181794 -1.684047  2.055845  0.769509  \n",
       "4   -0.815684  0.804744 -1.859179 -0.148197  \n",
       "..        ...       ...       ...       ...  \n",
       "495  1.160015  0.187763  0.370519 -0.724006  \n",
       "496 -0.466378  1.370321 -1.093290  0.651534  \n",
       "497  0.094675  1.479021 -0.627702  1.044869  \n",
       "498  0.363341  0.715720 -2.027242 -1.694513  \n",
       "499  1.286594  0.400324 -0.136945 -1.003354  \n",
       "\n",
       "[500 rows x 11 columns]"
      ]
     },
     "execution_count": 14,
     "metadata": {},
     "output_type": "execute_result"
    }
   ],
   "source": [
    "df"
   ]
  },
  {
   "cell_type": "code",
   "execution_count": 23,
   "metadata": {},
   "outputs": [
    {
     "data": {
      "text/plain": [
       "2.0"
      ]
     },
     "execution_count": 23,
     "metadata": {},
     "output_type": "execute_result"
    }
   ],
   "source": [
    "df.at[0,0]"
   ]
  },
  {
   "cell_type": "code",
   "execution_count": 32,
   "metadata": {},
   "outputs": [
    {
     "data": {
      "text/plain": [
       "1     0.820848\n",
       "2     0.279692\n",
       "3    -0.933809\n",
       "4     0.531446\n",
       "5    -0.289947\n",
       "6     0.081788\n",
       "7     0.718942\n",
       "8    -0.250738\n",
       "9    -2.224598\n",
       "10    1.393593\n",
       "Name: 0, dtype: float64"
      ]
     },
     "execution_count": 32,
     "metadata": {},
     "output_type": "execute_result"
    }
   ],
   "source": [
    "df.iloc[0,1:]"
   ]
  },
  {
   "cell_type": "code",
   "execution_count": 33,
   "metadata": {},
   "outputs": [
    {
     "data": {
      "text/plain": [
       "10"
      ]
     },
     "execution_count": 33,
     "metadata": {},
     "output_type": "execute_result"
    }
   ],
   "source": [
    "df.iloc[0,1:].size"
   ]
  },
  {
   "cell_type": "code",
   "execution_count": 35,
   "metadata": {},
   "outputs": [
    {
     "data": {
      "text/html": [
       "<div>\n",
       "<style scoped>\n",
       "    .dataframe tbody tr th:only-of-type {\n",
       "        vertical-align: middle;\n",
       "    }\n",
       "\n",
       "    .dataframe tbody tr th {\n",
       "        vertical-align: top;\n",
       "    }\n",
       "\n",
       "    .dataframe thead th {\n",
       "        text-align: right;\n",
       "    }\n",
       "</style>\n",
       "<table border=\"1\" class=\"dataframe\">\n",
       "  <thead>\n",
       "    <tr style=\"text-align: right;\">\n",
       "      <th></th>\n",
       "      <th>1</th>\n",
       "      <th>2</th>\n",
       "      <th>3</th>\n",
       "    </tr>\n",
       "  </thead>\n",
       "  <tbody>\n",
       "    <tr>\n",
       "      <th>0</th>\n",
       "      <td>0.820848</td>\n",
       "      <td>0.279692</td>\n",
       "      <td>-0.933809</td>\n",
       "    </tr>\n",
       "    <tr>\n",
       "      <th>1</th>\n",
       "      <td>-0.237337</td>\n",
       "      <td>0.123457</td>\n",
       "      <td>-0.147219</td>\n",
       "    </tr>\n",
       "    <tr>\n",
       "      <th>2</th>\n",
       "      <td>-1.004144</td>\n",
       "      <td>-0.363469</td>\n",
       "      <td>-2.368783</td>\n",
       "    </tr>\n",
       "    <tr>\n",
       "      <th>3</th>\n",
       "      <td>-0.303728</td>\n",
       "      <td>-0.025726</td>\n",
       "      <td>-1.275006</td>\n",
       "    </tr>\n",
       "    <tr>\n",
       "      <th>4</th>\n",
       "      <td>-0.750953</td>\n",
       "      <td>-1.433361</td>\n",
       "      <td>1.147996</td>\n",
       "    </tr>\n",
       "    <tr>\n",
       "      <th>...</th>\n",
       "      <td>...</td>\n",
       "      <td>...</td>\n",
       "      <td>...</td>\n",
       "    </tr>\n",
       "    <tr>\n",
       "      <th>495</th>\n",
       "      <td>-0.848163</td>\n",
       "      <td>-0.807881</td>\n",
       "      <td>-0.123273</td>\n",
       "    </tr>\n",
       "    <tr>\n",
       "      <th>496</th>\n",
       "      <td>0.055388</td>\n",
       "      <td>0.021084</td>\n",
       "      <td>0.559810</td>\n",
       "    </tr>\n",
       "    <tr>\n",
       "      <th>497</th>\n",
       "      <td>-0.753129</td>\n",
       "      <td>-1.264581</td>\n",
       "      <td>-1.127424</td>\n",
       "    </tr>\n",
       "    <tr>\n",
       "      <th>498</th>\n",
       "      <td>-0.231799</td>\n",
       "      <td>-0.276941</td>\n",
       "      <td>-2.064353</td>\n",
       "    </tr>\n",
       "    <tr>\n",
       "      <th>499</th>\n",
       "      <td>-0.011838</td>\n",
       "      <td>-0.465866</td>\n",
       "      <td>0.319968</td>\n",
       "    </tr>\n",
       "  </tbody>\n",
       "</table>\n",
       "<p>500 rows × 3 columns</p>\n",
       "</div>"
      ],
      "text/plain": [
       "            1         2         3\n",
       "0    0.820848  0.279692 -0.933809\n",
       "1   -0.237337  0.123457 -0.147219\n",
       "2   -1.004144 -0.363469 -2.368783\n",
       "3   -0.303728 -0.025726 -1.275006\n",
       "4   -0.750953 -1.433361  1.147996\n",
       "..        ...       ...       ...\n",
       "495 -0.848163 -0.807881 -0.123273\n",
       "496  0.055388  0.021084  0.559810\n",
       "497 -0.753129 -1.264581 -1.127424\n",
       "498 -0.231799 -0.276941 -2.064353\n",
       "499 -0.011838 -0.465866  0.319968\n",
       "\n",
       "[500 rows x 3 columns]"
      ]
     },
     "execution_count": 35,
     "metadata": {},
     "output_type": "execute_result"
    }
   ],
   "source": [
    "df.iloc[0:,[1,2,3]]"
   ]
  },
  {
   "cell_type": "code",
   "execution_count": 36,
   "metadata": {},
   "outputs": [
    {
     "data": {
      "text/plain": [
       "1    0.820848\n",
       "2    0.279692\n",
       "3   -0.933809\n",
       "Name: 0, dtype: float64"
      ]
     },
     "execution_count": 36,
     "metadata": {},
     "output_type": "execute_result"
    }
   ],
   "source": [
    "df.iloc[0,[1,2,3]]"
   ]
  },
  {
   "cell_type": "code",
   "execution_count": 51,
   "metadata": {},
   "outputs": [
    {
     "data": {
      "text/plain": [
       "500"
      ]
     },
     "execution_count": 51,
     "metadata": {},
     "output_type": "execute_result"
    }
   ],
   "source": [
    "df.iloc[0:,0].size"
   ]
  },
  {
   "cell_type": "code",
   "execution_count": null,
   "metadata": {},
   "outputs": [],
   "source": []
  },
  {
   "cell_type": "code",
   "execution_count": null,
   "metadata": {},
   "outputs": [],
   "source": []
  },
  {
   "cell_type": "code",
   "execution_count": null,
   "metadata": {},
   "outputs": [],
   "source": []
  },
  {
   "cell_type": "code",
   "execution_count": null,
   "metadata": {},
   "outputs": [],
   "source": []
  },
  {
   "cell_type": "code",
   "execution_count": null,
   "metadata": {},
   "outputs": [],
   "source": []
  },
  {
   "cell_type": "code",
   "execution_count": null,
   "metadata": {},
   "outputs": [],
   "source": []
  },
  {
   "cell_type": "code",
   "execution_count": null,
   "metadata": {},
   "outputs": [],
   "source": []
  },
  {
   "cell_type": "code",
   "execution_count": null,
   "metadata": {},
   "outputs": [],
   "source": []
  }
 ],
 "metadata": {
  "interpreter": {
   "hash": "ca49ff0ffe1808df299e2fa61a14697f92eb8fb3e9a660d64db98d3fdcc9e2a2"
  },
  "kernelspec": {
   "display_name": "Python 3.8.8 64-bit ('base': conda)",
   "language": "python",
   "name": "python3"
  },
  "language_info": {
   "codemirror_mode": {
    "name": "ipython",
    "version": 3
   },
   "file_extension": ".py",
   "mimetype": "text/x-python",
   "name": "python",
   "nbconvert_exporter": "python",
   "pygments_lexer": "ipython3",
   "version": "3.8.8"
  },
  "orig_nbformat": 4
 },
 "nbformat": 4,
 "nbformat_minor": 2
}
